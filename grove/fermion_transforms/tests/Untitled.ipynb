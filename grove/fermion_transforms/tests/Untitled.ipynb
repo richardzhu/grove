{
 "cells": [
  {
   "cell_type": "code",
   "execution_count": 27,
   "metadata": {
    "collapsed": true
   },
   "outputs": [],
   "source": [
    "from grove.fermion_transforms.bktransform import BKTransform"
   ]
  },
  {
   "cell_type": "code",
   "execution_count": 28,
   "metadata": {},
   "outputs": [],
   "source": [
    "n_qubits = 16\n",
    "bkt = BKTransform(n_qubits)"
   ]
  },
  {
   "cell_type": "code",
   "execution_count": 29,
   "metadata": {},
   "outputs": [
    {
     "name": "stdout",
     "output_type": "stream",
     "text": [
      "(0.0625+0j)*X0*X2 + (0.0625+0j)*X0*X2*Z3 + -0.0625j*X0*Y2 + -0.0625j*X0*Y2*Z3 + (0.0625+0j)*X0*Z1*X2 + (0.0625+0j)*X0*Z1*X2*Z3 + -0.0625j*X0*Z1*Y2 + -0.0625j*X0*Z1*Y2*Z3 + -0.0625j*Y0*X2 + -0.0625j*Y0*X2*Z3 + (-0.0625-0j)*Y0*Y2 + (-0.0625+0j)*Y0*Y2*Z3 + -0.0625j*Y0*Z1*X2 + -0.0625j*Y0*Z1*X2*Z3 + (-0.0625-0j)*Y0*Z1*Y2 + (-0.0625+0j)*Y0*Z1*Y2*Z3\n"
     ]
    }
   ],
   "source": [
    "op = None\n",
    "for i in range(4):\n",
    "    if op == None:\n",
    "        op = bkt.create(i)\n",
    "    else:\n",
    "        op *= bkt.create(i)\n",
    "print op.simplify()"
   ]
  },
  {
   "cell_type": "code",
   "execution_count": 30,
   "metadata": {},
   "outputs": [
    {
     "name": "stdout",
     "output_type": "stream",
     "text": [
      "(0.03125+0j)*X0*X2*X4*X5*X7*X15 + -0.03125j*X0*X2*Y4*X5*X7*X15 + (0.03125+0j)*X0*X2*Z3*X4*X5*X7*X15 + -0.03125j*X0*X2*Z3*Y4*X5*X7*X15 + -0.03125j*X0*Y2*X4*X5*X7*X15 + (-0.03125-0j)*X0*Y2*Y4*X5*X7*X15 + -0.03125j*X0*Y2*Z3*X4*X5*X7*X15 + (-0.03125-0j)*X0*Y2*Z3*Y4*X5*X7*X15 + (0.03125+0j)*X0*Z1*X2*X4*X5*X7*X15 + -0.03125j*X0*Z1*X2*Y4*X5*X7*X15 + (0.03125+0j)*X0*Z1*X2*Z3*X4*X5*X7*X15 + -0.03125j*X0*Z1*X2*Z3*Y4*X5*X7*X15 + -0.03125j*X0*Z1*Y2*X4*X5*X7*X15 + (-0.03125-0j)*X0*Z1*Y2*Y4*X5*X7*X15 + -0.03125j*X0*Z1*Y2*Z3*X4*X5*X7*X15 + (-0.03125-0j)*X0*Z1*Y2*Z3*Y4*X5*X7*X15 + -0.03125j*Y0*X2*X4*X5*X7*X15 + (-0.03125-0j)*Y0*X2*Y4*X5*X7*X15 + -0.03125j*Y0*X2*Z3*X4*X5*X7*X15 + (-0.03125-0j)*Y0*X2*Z3*Y4*X5*X7*X15 + (-0.03125+0j)*Y0*Y2*X4*X5*X7*X15 + 0.03125j*Y0*Y2*Y4*X5*X7*X15 + (-0.03125-0j)*Y0*Y2*Z3*X4*X5*X7*X15 + (-0+0.03125j)*Y0*Y2*Z3*Y4*X5*X7*X15 + -0.03125j*Y0*Z1*X2*X4*X5*X7*X15 + (-0.03125-0j)*Y0*Z1*X2*Y4*X5*X7*X15 + -0.03125j*Y0*Z1*X2*Z3*X4*X5*X7*X15 + (-0.03125-0j)*Y0*Z1*X2*Z3*Y4*X5*X7*X15 + (-0.03125+0j)*Y0*Z1*Y2*X4*X5*X7*X15 + 0.03125j*Y0*Z1*Y2*Y4*X5*X7*X15 + (-0.03125-0j)*Y0*Z1*Y2*Z3*X4*X5*X7*X15 + (-0+0.03125j)*Y0*Z1*Y2*Z3*Y4*X5*X7*X15\n"
     ]
    }
   ],
   "source": [
    "op = None\n",
    "for i in range(5):\n",
    "    if op == None:\n",
    "        op = bkt.create(i)\n",
    "    else:\n",
    "        op *= bkt.create(i)\n",
    "print op.simplify()"
   ]
  },
  {
   "cell_type": "code",
   "execution_count": 54,
   "metadata": {},
   "outputs": [
    {
     "name": "stdout",
     "output_type": "stream",
     "text": [
      "Help on PauliSum in module pyquil.paulis object:\n",
      "\n",
      "class PauliSum(__builtin__.object)\n",
      " |  A sum of one or more PauliTerms.\n",
      " |  \n",
      " |  Methods defined here:\n",
      " |  \n",
      " |  __add__(self, other)\n",
      " |      Adds together this PauliSum with PauliSum, PauliTerm or Number objects. The new term\n",
      " |      is then simplified according to the Pauli Algebra rules.\n",
      " |      \n",
      " |      :param other: a PauliSum, PauliTerm or Number object\n",
      " |      :return: A new PauliSum object given by the addition.\n",
      " |      :rtype: PauliSum\n",
      " |  \n",
      " |  __getitem__(self, item)\n",
      " |      :param int item: The index of the term in the sum to return\n",
      " |      :return: The PauliTerm at the index-th position in the PauliSum\n",
      " |      :rtype: PauliTerm\n",
      " |  \n",
      " |  __init__(self, terms)\n",
      " |      :param list terms: A list of PauliTerms.\n",
      " |  \n",
      " |  __iter__(self)\n",
      " |  \n",
      " |  __mul__(self, other)\n",
      " |      Multiplies together this PauliSum with PauliSum, PauliTerm or Number objects. The new term\n",
      " |      is then simplified according to the Pauli Algebra rules.\n",
      " |      \n",
      " |      :param other: a PauliSum, PauliTerm or Number object\n",
      " |      :return: A new PauliSum object given by the multiplication.\n",
      " |      :rtype: PauliSum\n",
      " |  \n",
      " |  __radd__(self, other)\n",
      " |      Adds together this PauliSum with PauliSum, PauliTerm or Number objects. The new term\n",
      " |      is then simplified according to the Pauli Algebra rules.\n",
      " |      \n",
      " |      :param other: a PauliSum, PauliTerm or Number object\n",
      " |      :return: A new PauliSum object given by the addition.\n",
      " |      :rtype: PauliSum\n",
      " |  \n",
      " |  __rmul__(self, other)\n",
      " |      Multiples together this PauliSum with PauliSum, PauliTerm or Number objects. The new term\n",
      " |      is then simplified according to the Pauli Algebra rules.\n",
      " |      \n",
      " |      :param other: a PauliSum, PauliTerm or Number object\n",
      " |      :return: A new PauliSum object given by the multiplication.\n",
      " |      :rtype: PauliSum\n",
      " |  \n",
      " |  __rsub__(self, other)\n",
      " |      Finds the different of this PauliSum with PauliSum, PauliTerm or Number objects. The new\n",
      " |      term is then simplified according to the Pauli Algebra rules.\n",
      " |      \n",
      " |      :param other: a PauliSum, PauliTerm or Number object\n",
      " |      :return: A new PauliSum object given by the subtraction.\n",
      " |      :rtype: PauliSum\n",
      " |  \n",
      " |  __str__(self)\n",
      " |  \n",
      " |  __sub__(self, other)\n",
      " |      Finds the difference of this PauliSum with PauliSum, PauliTerm or Number objects. The new\n",
      " |      term is then simplified according to the Pauli Algebra rules.\n",
      " |      \n",
      " |      :param other: a PauliSum, PauliTerm or Number object\n",
      " |      :return: A new PauliSum object given by the subtraction.\n",
      " |      :rtype: PauliSum\n",
      " |  \n",
      " |  get_qubits(self)\n",
      " |      The support of all the operators in the PauliSum object.\n",
      " |      \n",
      " |      :returns: A list of all the qubits in the sum of terms.\n",
      " |      :rtype: list\n",
      " |  \n",
      " |  simplify(self)\n",
      " |      Simplifies the sum of Pauli operators according to Pauli algebra rules.\n",
      " |  \n",
      " |  ----------------------------------------------------------------------\n",
      " |  Data descriptors defined here:\n",
      " |  \n",
      " |  __dict__\n",
      " |      dictionary for instance variables (if defined)\n",
      " |  \n",
      " |  __weakref__\n",
      " |      list of weak references to the object (if defined)\n",
      "\n"
     ]
    }
   ],
   "source": [
    "help(op)"
   ]
  },
  {
   "cell_type": "code",
   "execution_count": 31,
   "metadata": {},
   "outputs": [
    {
     "name": "stdout",
     "output_type": "stream",
     "text": [
      "(0.25+0j)*X2 + -0.25j*Y2 + (0.25+0j)*Z1*X2*Z3 + -0.25j*Z1*Y2*Z3\n"
     ]
    }
   ],
   "source": [
    "op = bkt.create(2) * bkt.create(3)\n",
    "print op.simplify()"
   ]
  },
  {
   "cell_type": "code",
   "execution_count": 32,
   "metadata": {},
   "outputs": [
    {
     "name": "stdout",
     "output_type": "stream",
     "text": [
      "(0.25+0j)*X2 + -0.25j*Y2 + (-0.25+0j)*Z1*X2*Z3 + 0.25j*Z1*Y2*Z3\n"
     ]
    }
   ],
   "source": [
    "op = bkt.create(2) * bkt.kill(3)\n",
    "print op.simplify()"
   ]
  },
  {
   "cell_type": "code",
   "execution_count": 38,
   "metadata": {},
   "outputs": [
    {
     "name": "stdout",
     "output_type": "stream",
     "text": [
      "-0.5j*Y3*X7*X15 + 0.5*Z1*Z2*X3*X7*X15\n"
     ]
    }
   ],
   "source": [
    "op = bkt.create(3)\n",
    "print op.simplify()"
   ]
  },
  {
   "cell_type": "code",
   "execution_count": 40,
   "metadata": {
    "collapsed": true
   },
   "outputs": [],
   "source": [
    "import numpy as np"
   ]
  },
  {
   "cell_type": "code",
   "execution_count": 46,
   "metadata": {},
   "outputs": [
    {
     "name": "stdout",
     "output_type": "stream",
     "text": [
      "True\n",
      "True\n",
      "True\n",
      "True\n",
      "True\n",
      "True\n",
      "True\n",
      "True\n",
      "True\n",
      "True\n",
      "True\n",
      "True\n",
      "True\n",
      "True\n",
      "True\n",
      "True\n"
     ]
    }
   ],
   "source": [
    "n_qubits = 16\n",
    "bkt = BKTransform(n_qubits)\n",
    "invariant = np.log2(n_qubits) + 1\n",
    "for index in range(n_qubits):\n",
    "    op = bkt.kill(index)\n",
    "    op_terms = op.terms\n",
    "    for term in op_terms:\n",
    "        coeff = term.coefficient\n",
    "        #  Identify the c Majorana terms by real\n",
    "        #  coefficients and check their length.\n",
    "        if not isinstance(coeff, complex):\n",
    "            print(len(term) == invariant)"
   ]
  },
  {
   "cell_type": "code",
   "execution_count": 34,
   "metadata": {},
   "outputs": [
    {
     "name": "stdout",
     "output_type": "stream",
     "text": [
      "-0.5j*Y3*X7*X15\n",
      "0.5*Z1*Z2*X3*X7*X15\n"
     ]
    }
   ],
   "source": [
    "for i in op:\n",
    "    print i"
   ]
  },
  {
   "cell_type": "code",
   "execution_count": 52,
   "metadata": {
    "collapsed": true
   },
   "outputs": [],
   "source": [
    "from referenceqvm.gates import gate_matrix\n",
    "\n",
    "Z = gate_matrix['Z']"
   ]
  },
  {
   "cell_type": "code",
   "execution_count": 53,
   "metadata": {},
   "outputs": [
    {
     "name": "stdout",
     "output_type": "stream",
     "text": [
      "(0.5+0j)*I + (-0.5+0j)*Z1*Z2*Z3\n"
     ]
    }
   ],
   "source": [
    "op = bkt.create(3) * bkt.kill(3)\n",
    "print op"
   ]
  },
  {
   "cell_type": "code",
   "execution_count": 68,
   "metadata": {},
   "outputs": [
    {
     "name": "stdout",
     "output_type": "stream",
     "text": [
      "[[ 0.  0.  0.  0.  0.  0.  0.  0.]\n",
      " [ 0.  1.  0.  0.  0.  0.  0.  0.]\n",
      " [ 0.  0.  1.  0.  0.  0.  0.  0.]\n",
      " [ 0.  0.  0.  0.  0.  0.  0.  0.]\n",
      " [ 0.  0.  0.  0.  1.  0.  0.  0.]\n",
      " [ 0.  0.  0.  0.  0.  0.  0.  0.]\n",
      " [ 0.  0.  0.  0.  0.  0.  0.  0.]\n",
      " [ 0.  0.  0.  0.  0.  0.  0.  1.]]\n"
     ]
    }
   ],
   "source": [
    "# Bravyi-Kitaev number operator at index 3 matrix\n",
    "mat = 0.5 * np.eye(2 ** 3) - 0.5 * np.kron(Z, np.kron(Z, Z))\n",
    "print mat"
   ]
  },
  {
   "cell_type": "code",
   "execution_count": 74,
   "metadata": {},
   "outputs": [
    {
     "data": {
      "text/plain": [
       "array([ 0.,  0.,  0.,  0.,  1.,  1.,  1.,  1.])"
      ]
     },
     "execution_count": 74,
     "metadata": {},
     "output_type": "execute_result"
    }
   ],
   "source": [
    "np.sort(np.linalg.eig(mat)[0])"
   ]
  },
  {
   "cell_type": "code",
   "execution_count": 75,
   "metadata": {},
   "outputs": [
    {
     "data": {
      "text/plain": [
       "array([ 0.,  0.,  0.,  0.,  1.,  1.,  1.,  1.])"
      ]
     },
     "execution_count": 75,
     "metadata": {},
     "output_type": "execute_result"
    }
   ],
   "source": [
    "np.sort(np.linalg.eigvals(mat))"
   ]
  },
  {
   "cell_type": "code",
   "execution_count": 64,
   "metadata": {},
   "outputs": [],
   "source": [
    "from grove.fermion_transforms.jwtransform import JWTransform\n",
    "\n",
    "jwt = JWTransform()"
   ]
  },
  {
   "cell_type": "code",
   "execution_count": 65,
   "metadata": {},
   "outputs": [
    {
     "name": "stdout",
     "output_type": "stream",
     "text": [
      "(0.5+0j)*I + (-0.5+0j)*Z3\n"
     ]
    }
   ],
   "source": [
    "op = jwt.create(3) * jwt.kill(3)\n",
    "print op"
   ]
  },
  {
   "cell_type": "code",
   "execution_count": 71,
   "metadata": {},
   "outputs": [
    {
     "name": "stdout",
     "output_type": "stream",
     "text": [
      "[[ 0.  0.  0.  0.  0.  0.  0.  0.]\n",
      " [ 0.  1.  0.  0.  0.  0.  0.  0.]\n",
      " [ 0.  0.  0.  0.  0.  0.  0.  0.]\n",
      " [ 0.  0.  0.  1.  0.  0.  0.  0.]\n",
      " [ 0.  0.  0.  0.  0.  0.  0.  0.]\n",
      " [ 0.  0.  0.  0.  0.  1.  0.  0.]\n",
      " [ 0.  0.  0.  0.  0.  0.  0.  0.]\n",
      " [ 0.  0.  0.  0.  0.  0.  0.  1.]]\n"
     ]
    }
   ],
   "source": [
    "# Jordan-Wigner number operator at index 3 matrix\n",
    "mat = 0.5 * np.eye(2 ** 3) - 0.5 * np.kron(np.eye(2), np.kron(np.eye(2), Z))\n",
    "print mat"
   ]
  },
  {
   "cell_type": "code",
   "execution_count": 73,
   "metadata": {},
   "outputs": [
    {
     "data": {
      "text/plain": [
       "array([ 0.,  0.,  0.,  0.,  1.,  1.,  1.,  1.])"
      ]
     },
     "execution_count": 73,
     "metadata": {},
     "output_type": "execute_result"
    }
   ],
   "source": [
    "np.sort(np.linalg.eig(mat)[0])"
   ]
  }
 ],
 "metadata": {
  "kernelspec": {
   "display_name": "Python 2",
   "language": "python",
   "name": "python2"
  },
  "language_info": {
   "codemirror_mode": {
    "name": "ipython",
    "version": 2
   },
   "file_extension": ".py",
   "mimetype": "text/x-python",
   "name": "python",
   "nbconvert_exporter": "python",
   "pygments_lexer": "ipython2",
   "version": "2.7.12"
  }
 },
 "nbformat": 4,
 "nbformat_minor": 2
}
